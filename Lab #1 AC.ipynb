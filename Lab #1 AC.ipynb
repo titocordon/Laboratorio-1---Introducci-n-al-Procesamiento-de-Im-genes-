{
 "cells": [
  {
   "cell_type": "code",
   "execution_count": 2,
   "id": "91918cff-b84d-4d89-ab48-e2a363abe80d",
   "metadata": {
    "tags": []
   },
   "outputs": [
    {
     "ename": "ModuleNotFoundError",
     "evalue": "No module named 'cv2'",
     "output_type": "error",
     "traceback": [
      "\u001b[1;31m---------------------------------------------------------------------------\u001b[0m",
      "\u001b[1;31mModuleNotFoundError\u001b[0m                       Traceback (most recent call last)",
      "Cell \u001b[1;32mIn[2], line 1\u001b[0m\n\u001b[1;32m----> 1\u001b[0m \u001b[38;5;28;01mimport\u001b[39;00m \u001b[38;5;21;01mcv2\u001b[39;00m\n\u001b[0;32m      2\u001b[0m \u001b[38;5;28;01mimport\u001b[39;00m \u001b[38;5;21;01mnumpy\u001b[39;00m \u001b[38;5;28;01mas\u001b[39;00m \u001b[38;5;21;01mnp\u001b[39;00m\n",
      "\u001b[1;31mModuleNotFoundError\u001b[0m: No module named 'cv2'"
     ]
    }
   ],
   "source": [
    "import cv2\n",
    "import numpy as np"
   ]
  },
  {
   "cell_type": "code",
   "execution_count": null,
   "id": "37063728-f7f9-4273-a32d-408d07189fd3",
   "metadata": {},
   "outputs": [],
   "source": [
    "def filtrar_colores(imagen, color):\n",
    "    # Asegúrate de que la imagen esté en el formato correcto\n",
    "    if len(imagen.shape) != 3 or imagen.shape[2] != 3:\n",
    "        raise ValueError(\"La imagen debe ser una imagen color con 3 canales (BGR).\")\n",
    "    \n",
    "    # Crear una copia de la imagen para modificar\n",
    "    resultado = np.zeros_like(imagen)\n",
    "    \n",
    "    # Activar canales según el parámetro `color`\n",
    "    if color == 1:\n",
    "        # Activar solo el canal azul\n",
    "        resultado[:, :, 0] = imagen[:, :, 0]\n",
    "    elif color == 2:\n",
    "        # Activar solo el canal verde\n",
    "        resultado[:, :, 1] = imagen[:, :, 1]\n",
    "    elif color == 3:\n",
    "        # Activar solo el canal rojo\n",
    "        resultado[:, :, 2] = imagen[:, :, 2]\n",
    "    elif color == 10:\n",
    "        # Activar los canales rojo y verde\n",
    "        resultado[:, :, 1] = imagen[:, :, 1]\n",
    "        resultado[:, :, 2] = imagen[:, :, 2]\n",
    "    elif color == 20:\n",
    "        # Activar los canales verde y azul\n",
    "        resultado[:, :, 0] = imagen[:, :, 0]\n",
    "        resultado[:, :, 1] = imagen[:, :, 1]\n",
    "    elif color == 30:\n",
    "        # Activar los canales azul y rojo\n",
    "        resultado[:, :, 0] = imagen[:, :, 0]\n",
    "        resultado[:, :, 2] = imagen[:, :, 2]\n",
    "    else:\n",
    "        raise ValueError(\"El parámetro `color` debe ser 1, 2, 3, 10, 20, o 30.\")\n",
    "    \n",
    "    return resultado\n",
    "\n",
    "# Ejemplo de uso:\n",
    "# Cargar una imagen desde el disco\n",
    "imagen = cv2.imread('ruta/a/tu/imagen.jpg')\n",
    "\n",
    "# Aplicar la función\n",
    "imagen_filtrada = filtrar_colores(imagen, 10)\n",
    "\n",
    "# Mostrar la imagen resultante\n",
    "cv2.imshow('Imagen Filtrada', imagen_filtrada)\n",
    "cv2.waitKey(0)\n",
    "cv2.destroyAllWindows()\n",
    "\n"
   ]
  }
 ],
 "metadata": {
  "kernelspec": {
   "display_name": "Python 3 (ipykernel)",
   "language": "python",
   "name": "python3"
  },
  "language_info": {
   "codemirror_mode": {
    "name": "ipython",
    "version": 3
   },
   "file_extension": ".py",
   "mimetype": "text/x-python",
   "name": "python",
   "nbconvert_exporter": "python",
   "pygments_lexer": "ipython3",
   "version": "3.11.5"
  }
 },
 "nbformat": 4,
 "nbformat_minor": 5
}
